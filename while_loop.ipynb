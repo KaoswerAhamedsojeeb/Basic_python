{
 "cells": [
  {
   "cell_type": "code",
   "execution_count": 7,
   "id": "c3eb2162-d327-4345-ae74-5efa6d84a836",
   "metadata": {},
   "outputs": [
    {
     "name": "stdin",
     "output_type": "stream",
     "text": [
      "Please enter the number 10\n"
     ]
    },
    {
     "name": "stdout",
     "output_type": "stream",
     "text": [
      "3628800\n"
     ]
    }
   ],
   "source": [
    "n= int(input(\"Please enter the number\"))\n",
    "fact = 1\n",
    "count = 1\n",
    "while(count<= n):\n",
    "    fact*=count\n",
    "    count+=1\n",
    "\n",
    "print(fact)\n"
   ]
  },
  {
   "cell_type": "code",
   "execution_count": 2,
   "id": "c204d6fa-e529-4c41-94f3-b963ed6c1a2e",
   "metadata": {},
   "outputs": [
    {
     "name": "stdin",
     "output_type": "stream",
     "text": [
      "Please enter your mail address:  kahsoer@kdfa.cka\n"
     ]
    },
    {
     "name": "stdout",
     "output_type": "stream",
     "text": [
      "Email address validation passed.\n"
     ]
    }
   ],
   "source": [
    "# check an email address whether it is valid or not\n",
    "\n",
    "mail = input(\"Please enter your mail address: \")\n",
    "\n",
    "\n",
    "if \"@\" in mail and \".\" in mail:\n",
    "     print(\"Email address validation passed.\")\n",
    "\n",
    "else:\n",
    "    print(\"Invalid Email address. \\n please try again\")\n",
    "    \n",
    " "
   ]
  },
  {
   "cell_type": "code",
   "execution_count": null,
   "id": "b4f2b2e7-78d3-4910-8ab4-8ba48cbacd84",
   "metadata": {},
   "outputs": [],
   "source": []
  },
  {
   "cell_type": "code",
   "execution_count": null,
   "id": "62fe32a5-6377-4a8d-95ee-896944537360",
   "metadata": {},
   "outputs": [],
   "source": []
  }
 ],
 "metadata": {
  "kernelspec": {
   "display_name": "Python 3 (ipykernel)",
   "language": "python",
   "name": "python3"
  },
  "language_info": {
   "codemirror_mode": {
    "name": "ipython",
    "version": 3
   },
   "file_extension": ".py",
   "mimetype": "text/x-python",
   "name": "python",
   "nbconvert_exporter": "python",
   "pygments_lexer": "ipython3",
   "version": "3.12.1"
  }
 },
 "nbformat": 4,
 "nbformat_minor": 5
}
