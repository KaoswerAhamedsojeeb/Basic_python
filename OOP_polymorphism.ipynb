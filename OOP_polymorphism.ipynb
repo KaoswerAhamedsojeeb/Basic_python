{
 "cells": [
  {
   "cell_type": "code",
   "execution_count": 8,
   "id": "08e3a88e-498b-4612-9546-d06330e0178e",
   "metadata": {},
   "outputs": [
    {
     "name": "stdout",
     "output_type": "stream",
     "text": [
      "7\n",
      "16\n",
      "26\n"
     ]
    }
   ],
   "source": [
    "class add_two :\n",
    "    def add(self,a,b):\n",
    "        print(a+b)\n",
    "class add_three:\n",
    "    def add(self,a,b,c):\n",
    "        print(a+b+c)\n",
    "class add_four:\n",
    "    def add(self,a,b,c,d):\n",
    "        print(a+b+c+d)\n",
    "\n",
    "addition2 = add_two()\n",
    "addition2.add(3,4)\n",
    "\n",
    "addition3 = add_three()\n",
    "addition3.add(5,4,7)\n",
    "\n",
    "addition4 = add_four()\n",
    "addition4.add(8,7,9,2)\n",
    "\n",
    "\n",
    "\n"
   ]
  },
  {
   "cell_type": "markdown",
   "id": "fc032048-7837-463a-95bb-7b5fcd945e50",
   "metadata": {},
   "source": [
    "# Run time polymorphism"
   ]
  },
  {
   "cell_type": "code",
   "execution_count": 10,
   "id": "95d44c0b-f465-4a13-8110-01b050542eb6",
   "metadata": {},
   "outputs": [
    {
     "name": "stdout",
     "output_type": "stream",
     "text": [
      "animal make sound\n",
      "dog bark\n",
      "cat say mew\n"
     ]
    }
   ],
   "source": [
    "# method overriding\n",
    "\n",
    "class animal:\n",
    "    def make_sound(self):\n",
    "        print(\"animal make sound\")\n",
    "\n",
    "#child class of animal\n",
    "class dog(animal):\n",
    "    def make_sound(self):\n",
    "        print(\"dog bark\")\n",
    "\n",
    "# child class of animal\n",
    "class cat(animal):\n",
    "    def make_sound(self):\n",
    "        print(\"cat say mew\")\n",
    "\n",
    "\n",
    "animal = animal()\n",
    "animal.make_sound()\n",
    "\n",
    "dog= dog()\n",
    "dog.make_sound()\n",
    "\n",
    "cat = cat()\n",
    "cat.make_sound()"
   ]
  },
  {
   "cell_type": "markdown",
   "id": "ecb15758-235a-4af6-98da-45a67342724e",
   "metadata": {},
   "source": [
    "# Compile time polymorphism"
   ]
  },
  {
   "cell_type": "code",
   "execution_count": 11,
   "id": "4628588f-c423-4e89-a71f-4f1a464e62c0",
   "metadata": {},
   "outputs": [
    {
     "name": "stdout",
     "output_type": "stream",
     "text": [
      "7\n",
      "10\n",
      "22\n"
     ]
    }
   ],
   "source": [
    "# python doesnot support direct function overloading as like C++ and other \n",
    "\n",
    "\n",
    "class Addition:\n",
    "    def add(self, a, b, c=0, d=0):  # Default values for optional parameters\n",
    "        print(a + b + c + d)\n",
    "\n",
    "num = Addition()\n",
    "num.add(3, 4)       \n",
    "num.add(5, 3, 2)   \n",
    "num.add(6, 8, 5, 3)"
   ]
  },
  {
   "cell_type": "code",
   "execution_count": null,
   "id": "35901999-55c5-4965-ba7d-c87f3c7b0943",
   "metadata": {},
   "outputs": [],
   "source": []
  }
 ],
 "metadata": {
  "kernelspec": {
   "display_name": "Python 3 (ipykernel)",
   "language": "python",
   "name": "python3"
  },
  "language_info": {
   "codemirror_mode": {
    "name": "ipython",
    "version": 3
   },
   "file_extension": ".py",
   "mimetype": "text/x-python",
   "name": "python",
   "nbconvert_exporter": "python",
   "pygments_lexer": "ipython3",
   "version": "3.12.1"
  }
 },
 "nbformat": 4,
 "nbformat_minor": 5
}
