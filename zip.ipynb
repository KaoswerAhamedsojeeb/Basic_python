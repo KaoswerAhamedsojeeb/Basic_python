{
 "cells": [
  {
   "cell_type": "code",
   "execution_count": 5,
   "id": "358af467-3b16-48a9-8cab-db9470120b61",
   "metadata": {},
   "outputs": [],
   "source": [
    "name = ['sojeeb', 'kaoswer','ahamed']\n",
    "age =[21,22,23]\n"
   ]
  },
  {
   "cell_type": "code",
   "execution_count": 7,
   "id": "a1315890-7537-4edd-86d2-7ea019150681",
   "metadata": {},
   "outputs": [
    {
     "name": "stdout",
     "output_type": "stream",
     "text": [
      "[('sojeeb', 21), ('kaoswer', 22), ('ahamed', 23)]\n"
     ]
    }
   ],
   "source": [
    "zipped_list = list(zip(name,age))\n",
    "print(zipped_list)"
   ]
  },
  {
   "cell_type": "code",
   "execution_count": 9,
   "id": "a574b398-9b06-4d8d-9904-fd12416d35d0",
   "metadata": {},
   "outputs": [
    {
     "data": {
      "text/plain": [
       "(('sojeeb', 21), ('kaoswer', 22), ('ahamed', 23))"
      ]
     },
     "execution_count": 9,
     "metadata": {},
     "output_type": "execute_result"
    }
   ],
   "source": [
    "zipped_tuple = tuple(zip(name,age))\n",
    "zipped_tuple"
   ]
  },
  {
   "cell_type": "code",
   "execution_count": 11,
   "id": "ce73c3fd-3e77-4939-afa7-2b0e80672c4c",
   "metadata": {},
   "outputs": [
    {
     "data": {
      "text/plain": [
       "{'sojeeb': 21, 'kaoswer': 22, 'ahamed': 23}"
      ]
     },
     "execution_count": 11,
     "metadata": {},
     "output_type": "execute_result"
    }
   ],
   "source": [
    "zipped_dict = dict(zip(name,age))\n",
    "zipped_dict"
   ]
  },
  {
   "cell_type": "code",
   "execution_count": 13,
   "id": "34090daa-ddaf-4d9f-a669-ca2989116e2b",
   "metadata": {},
   "outputs": [
    {
     "data": {
      "text/plain": [
       "[('abul', 2, 'one'), ('babul', 5, 'three'), ('kabul', 8, 'five')]"
      ]
     },
     "execution_count": 13,
     "metadata": {},
     "output_type": "execute_result"
    }
   ],
   "source": [
    "# zip of multiple ist\n",
    "nm =['abul','babul','kabul']\n",
    "roll=[2,5,8]\n",
    "cls = ['one','three','five']\n",
    "\n",
    "z = list(zip(nm,roll,cls))\n",
    "z"
   ]
  },
  {
   "cell_type": "code",
   "execution_count": 14,
   "id": "4fc2a549-02ef-4026-84e0-4d80cdbcce36",
   "metadata": {},
   "outputs": [
    {
     "data": {
      "text/plain": [
       "(('abul', 'babul', 'kabul'), (2, 5, 8), ('one', 'three', 'five'))"
      ]
     },
     "execution_count": 14,
     "metadata": {},
     "output_type": "execute_result"
    }
   ],
   "source": [
    "# unzip\n",
    "\n",
    "unzip_name, unzip_class, unzip_roll = zip(* z)\n",
    "unzip_name, unzip_class, unzip_roll"
   ]
  },
  {
   "cell_type": "code",
   "execution_count": null,
   "id": "31c4123c-f4f6-44ed-960e-eba6932e34c3",
   "metadata": {},
   "outputs": [],
   "source": []
  }
 ],
 "metadata": {
  "kernelspec": {
   "display_name": "Python 3 (ipykernel)",
   "language": "python",
   "name": "python3"
  },
  "language_info": {
   "codemirror_mode": {
    "name": "ipython",
    "version": 3
   },
   "file_extension": ".py",
   "mimetype": "text/x-python",
   "name": "python",
   "nbconvert_exporter": "python",
   "pygments_lexer": "ipython3",
   "version": "3.12.1"
  }
 },
 "nbformat": 4,
 "nbformat_minor": 5
}
