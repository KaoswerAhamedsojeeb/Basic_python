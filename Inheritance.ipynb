{
 "cells": [
  {
   "cell_type": "markdown",
   "id": "4c0d9508-8fa0-4b88-9a34-b9bbb8c31273",
   "metadata": {},
   "source": [
    "# single level inheritance"
   ]
  },
  {
   "cell_type": "code",
   "execution_count": 1,
   "id": "fabb94df-611a-4ec6-9a1b-9e68b183f7f6",
   "metadata": {},
   "outputs": [
    {
     "name": "stdout",
     "output_type": "stream",
     "text": [
      "this is parent class\n"
     ]
    }
   ],
   "source": [
    "class parent:\n",
    "    def show(self):\n",
    "        print(\"this is parent class\")\n",
    "\n",
    "class child(parent):\n",
    "    def show2(self):\n",
    "        print(\"this is child class\")\n",
    "\n",
    "ob = child()\n",
    "# Here the child class is inherited from the parent class\n",
    "ob.show()"
   ]
  },
  {
   "cell_type": "markdown",
   "id": "8bd4467d-a69b-4f25-b017-89f81bcfc64a",
   "metadata": {},
   "source": [
    "# multiple inheritacne"
   ]
  },
  {
   "cell_type": "code",
   "execution_count": 2,
   "id": "c1c855e2-c649-4676-8d6e-a90ce3fa6c38",
   "metadata": {},
   "outputs": [
    {
     "name": "stdout",
     "output_type": "stream",
     "text": [
      "this is mother class\n",
      "this is father class\n"
     ]
    }
   ],
   "source": [
    "class father:\n",
    "    def fa_func (self):\n",
    "        print(\"this is father class\")\n",
    "\n",
    "class mother:\n",
    "    def ma_func (self):\n",
    "        print(\"this is mother class\")\n",
    "\n",
    "# Here the child is inherited from both classes\n",
    "class Child(father,mother):\n",
    "    def chil_func(self):\n",
    "        print(\"this is child class\")\n",
    "\n",
    "\n",
    "child_ob = Child()\n",
    "\n",
    "child_ob.ma_func()\n",
    "child_ob.fa_func()"
   ]
  },
  {
   "cell_type": "markdown",
   "id": "e91c93f6-6e41-4092-83a5-074e940664e8",
   "metadata": {},
   "source": [
    "# multilevel Inheritance"
   ]
  },
  {
   "cell_type": "code",
   "execution_count": 6,
   "id": "654fd8bf-d3a6-4ef4-8553-5a764ed3545d",
   "metadata": {},
   "outputs": [
    {
     "name": "stdout",
     "output_type": "stream",
     "text": [
      "this is fater class\n",
      "this is grand parent class\n"
     ]
    }
   ],
   "source": [
    "class grand_parent:\n",
    "    def gr_func(self):\n",
    "        print(\"this is grand parent class\")\n",
    "\n",
    "class Father(grand_parent):\n",
    "    def father_func(self):\n",
    "        print(\"this is fater class\")\n",
    "\n",
    "class children(Father):\n",
    "    def children_func(self):\n",
    "        print(\"this is children class\")\n",
    "\n",
    "children_ob = children()\n",
    "children_ob.father_func()\n",
    "children_ob.gr_func()"
   ]
  },
  {
   "cell_type": "code",
   "execution_count": null,
   "id": "3a033f42-10ef-487d-b52e-8544aca289f0",
   "metadata": {},
   "outputs": [],
   "source": []
  }
 ],
 "metadata": {
  "kernelspec": {
   "display_name": "Python 3 (ipykernel)",
   "language": "python",
   "name": "python3"
  },
  "language_info": {
   "codemirror_mode": {
    "name": "ipython",
    "version": 3
   },
   "file_extension": ".py",
   "mimetype": "text/x-python",
   "name": "python",
   "nbconvert_exporter": "python",
   "pygments_lexer": "ipython3",
   "version": "3.12.1"
  }
 },
 "nbformat": 4,
 "nbformat_minor": 5
}
