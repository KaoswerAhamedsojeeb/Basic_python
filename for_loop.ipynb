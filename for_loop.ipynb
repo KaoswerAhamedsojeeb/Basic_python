{
 "cells": [
  {
   "cell_type": "code",
   "execution_count": 1,
   "id": "b7560622-d897-4141-9711-9e9ba2baf908",
   "metadata": {},
   "outputs": [
    {
     "name": "stdout",
     "output_type": "stream",
     "text": [
      "K\n",
      "a\n",
      "o\n",
      "s\n",
      "w\n",
      "e\n",
      "r\n",
      " \n",
      "a\n",
      "h\n",
      "a\n",
      "m\n",
      "e\n",
      "d\n",
      " \n",
      "s\n",
      "o\n",
      "j\n",
      "e\n",
      "e\n",
      "b\n"
     ]
    }
   ],
   "source": [
    "name = \"Kaoswer ahamed sojeeb\"\n",
    "\n",
    "for i in name:\n",
    "    print(i)"
   ]
  },
  {
   "cell_type": "code",
   "execution_count": 3,
   "id": "ccd7a356-4412-4578-aa81-02378debb6fd",
   "metadata": {},
   "outputs": [
    {
     "name": "stdout",
     "output_type": "stream",
     "text": [
      "K\n",
      "a\n",
      "o\n",
      "s\n",
      "w\n",
      "e\n",
      "r\n",
      " \n",
      "a\n",
      "h\n",
      "a\n",
      "m\n",
      "e\n",
      "d\n",
      " \n",
      "s\n",
      "o\n",
      "j\n",
      "e\n",
      "e\n",
      "b\n"
     ]
    }
   ],
   "source": [
    "for i in range(len(name)):\n",
    "    print(name[i])\n"
   ]
  },
  {
   "cell_type": "code",
   "execution_count": 7,
   "id": "04f750d0-351c-409d-91f5-bfedede0633d",
   "metadata": {},
   "outputs": [
    {
     "name": "stdout",
     "output_type": "stream",
     "text": [
      "K\n",
      "o\n",
      "w\n",
      "r\n",
      "a\n",
      "a\n",
      "e\n",
      " \n",
      "o\n",
      "e\n",
      "b\n"
     ]
    }
   ],
   "source": [
    "for i in range(0,len(name),2): \n",
    "    print(name[i])"
   ]
  },
  {
   "cell_type": "code",
   "execution_count": 17,
   "id": "6bbdd29b-f4f7-4d34-a7a3-790c97a34863",
   "metadata": {},
   "outputs": [
    {
     "name": "stdout",
     "output_type": "stream",
     "text": [
      "i\n",
      "love\n",
      "data\n",
      "science\n"
     ]
    }
   ],
   "source": [
    "data = \"i love data science\"\n",
    "data = data.split()\n",
    "for i in range(len(data)):\n",
    "    \n",
    "    print(data[i])"
   ]
  },
  {
   "cell_type": "code",
   "execution_count": null,
   "id": "4cf296ee-df29-4ddb-bdeb-581823b04879",
   "metadata": {},
   "outputs": [],
   "source": []
  }
 ],
 "metadata": {
  "kernelspec": {
   "display_name": "Python 3 (ipykernel)",
   "language": "python",
   "name": "python3"
  },
  "language_info": {
   "codemirror_mode": {
    "name": "ipython",
    "version": 3
   },
   "file_extension": ".py",
   "mimetype": "text/x-python",
   "name": "python",
   "nbconvert_exporter": "python",
   "pygments_lexer": "ipython3",
   "version": "3.12.1"
  }
 },
 "nbformat": 4,
 "nbformat_minor": 5
}
