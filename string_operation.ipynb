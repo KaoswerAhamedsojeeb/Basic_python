{
 "cells": [
  {
   "cell_type": "markdown",
   "id": "8d386a6b-ea3a-43dc-a0ef-27788f3428b1",
   "metadata": {},
   "source": [
    "introduction to string"
   ]
  },
  {
   "cell_type": "code",
   "execution_count": 4,
   "id": "3477aafe-93e5-45e8-be43-26268be44013",
   "metadata": {},
   "outputs": [
    {
     "name": "stdin",
     "output_type": "stream",
     "text": [
      "Enter your name: my name is kaoswer ahamed sojeeb\n"
     ]
    }
   ],
   "source": [
    "name = input(\"Enter your name:\")"
   ]
  },
  {
   "cell_type": "code",
   "execution_count": 5,
   "id": "ab2b99c4-8cd4-4af3-93cd-a6e075e7f433",
   "metadata": {},
   "outputs": [
    {
     "data": {
      "text/plain": [
       "8"
      ]
     },
     "execution_count": 5,
     "metadata": {},
     "output_type": "execute_result"
    }
   ],
   "source": [
    "name.find(\"is\")"
   ]
  },
  {
   "cell_type": "code",
   "execution_count": 6,
   "id": "b2bb9c59-c9cd-44f2-a629-7b739d4aeafa",
   "metadata": {},
   "outputs": [
    {
     "data": {
      "text/plain": [
       "26"
      ]
     },
     "execution_count": 6,
     "metadata": {},
     "output_type": "execute_result"
    }
   ],
   "source": [
    "name.find(\"sojeeb\")"
   ]
  },
  {
   "cell_type": "code",
   "execution_count": 15,
   "id": "d8a2a871-7f83-43c6-bf45-f0fb85c7ea6b",
   "metadata": {},
   "outputs": [
    {
     "data": {
      "text/plain": [
       "19"
      ]
     },
     "execution_count": 15,
     "metadata": {},
     "output_type": "execute_result"
    }
   ],
   "source": [
    "name.find(\"ahamed\",0,30)# finding data from a specific range here range is 5-8"
   ]
  },
  {
   "cell_type": "code",
   "execution_count": 12,
   "id": "93c7c2db-04aa-4e5e-b4fe-8950dc43f972",
   "metadata": {},
   "outputs": [
    {
     "data": {
      "text/plain": [
       "32"
      ]
     },
     "execution_count": 12,
     "metadata": {},
     "output_type": "execute_result"
    }
   ],
   "source": [
    "len(name)  #it return the length of the string"
   ]
  },
  {
   "cell_type": "code",
   "execution_count": 18,
   "id": "a23aeb13-b869-46b4-8fb2-d499cacfef78",
   "metadata": {},
   "outputs": [
    {
     "data": {
      "text/plain": [
       "22"
      ]
     },
     "execution_count": 18,
     "metadata": {},
     "output_type": "execute_result"
    }
   ],
   "source": [
    "name.index(\"med\") #it return the index of the word or charecter..the difference between index and find is \n",
    "#if the given word is not found find function return -1\n",
    "#on the other hand index function return error\n"
   ]
  },
  {
   "cell_type": "code",
   "execution_count": 19,
   "id": "049237b7-ba67-4880-ba53-ed2754f1a910",
   "metadata": {},
   "outputs": [
    {
     "data": {
      "text/plain": [
       "'my name is kaoswer ahamed sojeeb'"
      ]
     },
     "execution_count": 19,
     "metadata": {},
     "output_type": "execute_result"
    }
   ],
   "source": [
    "name.lower() #it convert all characet into lower case"
   ]
  },
  {
   "cell_type": "code",
   "execution_count": 20,
   "id": "c35e245c-aac5-477e-b9a4-dbeade94be5f",
   "metadata": {},
   "outputs": [
    {
     "data": {
      "text/plain": [
       "'MY NAME IS KAOSWER AHAMED SOJEEB'"
      ]
     },
     "execution_count": 20,
     "metadata": {},
     "output_type": "execute_result"
    }
   ],
   "source": [
    "name.upper() #it convert all character into upper case"
   ]
  },
  {
   "cell_type": "code",
   "execution_count": 21,
   "id": "7d77aeee-80ca-4e70-9626-2048fd3bd288",
   "metadata": {},
   "outputs": [
    {
     "data": {
      "text/plain": [
       "'My name is kaoswer ahamed sojeeb'"
      ]
     },
     "execution_count": 21,
     "metadata": {},
     "output_type": "execute_result"
    }
   ],
   "source": [
    "name.capitalize()#it convert only first character to upper case"
   ]
  },
  {
   "cell_type": "code",
   "execution_count": 22,
   "id": "e37d68bf-3b40-4274-9dfc-9bdb2ba08476",
   "metadata": {},
   "outputs": [
    {
     "data": {
      "text/plain": [
       "'My Name Is Kaoswer Ahamed Sojeeb'"
      ]
     },
     "execution_count": 22,
     "metadata": {},
     "output_type": "execute_result"
    }
   ],
   "source": [
    "name.title() # the first character of each word will capitalized"
   ]
  },
  {
   "cell_type": "code",
   "execution_count": 25,
   "id": "536d6ff6-3dba-4b47-9859-ad31e4669593",
   "metadata": {},
   "outputs": [
    {
     "data": {
      "text/plain": [
       "2"
      ]
     },
     "execution_count": 25,
     "metadata": {},
     "output_type": "execute_result"
    }
   ],
   "source": [
    "name.count(\"me\") # it count a specific word or letter"
   ]
  },
  {
   "cell_type": "code",
   "execution_count": 28,
   "id": "2ab38105-6aa0-4da9-aead-ffc42d520a12",
   "metadata": {},
   "outputs": [
    {
     "data": {
      "text/plain": [
       "'                                  my name is kaoswer ahamed sojeeb                                  '"
      ]
     },
     "execution_count": 28,
     "metadata": {},
     "output_type": "execute_result"
    }
   ],
   "source": [
    "name.center(100) # it show the sentence in the center of the given range"
   ]
  },
  {
   "cell_type": "code",
   "execution_count": 29,
   "id": "6b0090c9-7d99-4075-a595-8736676de8dd",
   "metadata": {},
   "outputs": [
    {
     "data": {
      "text/plain": [
       "'my name is Kawser ahamed sojeeb'"
      ]
     },
     "execution_count": 29,
     "metadata": {},
     "output_type": "execute_result"
    }
   ],
   "source": [
    "name.replace(\"kaoswer\",\"Kawser\") #it replace a word or character by new string"
   ]
  },
  {
   "cell_type": "code",
   "execution_count": 31,
   "id": "55995020-e497-44b4-b965-244f7c0ae66f",
   "metadata": {},
   "outputs": [
    {
     "name": "stdout",
     "output_type": "stream",
     "text": [
      "i have 100 taka and i will give you 40 taka\n"
     ]
    }
   ],
   "source": [
    "x=100\n",
    "print(\"i have {} taka and i will give you {} taka\".format(x,40)) # format function use for string formating "
   ]
  },
  {
   "cell_type": "code",
   "execution_count": null,
   "id": "a7faad73-1ad9-4f3b-bbe5-fd319d36a3de",
   "metadata": {},
   "outputs": [],
   "source": []
  }
 ],
 "metadata": {
  "kernelspec": {
   "display_name": "Python 3 (ipykernel)",
   "language": "python",
   "name": "python3"
  },
  "language_info": {
   "codemirror_mode": {
    "name": "ipython",
    "version": 3
   },
   "file_extension": ".py",
   "mimetype": "text/x-python",
   "name": "python",
   "nbconvert_exporter": "python",
   "pygments_lexer": "ipython3",
   "version": "3.12.1"
  }
 },
 "nbformat": 4,
 "nbformat_minor": 5
}
