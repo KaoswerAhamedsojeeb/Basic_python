{
 "cells": [
  {
   "cell_type": "markdown",
   "id": "dd0b1fe9-24ce-4b1e-a63f-7e8eec658747",
   "metadata": {},
   "source": [
    "# Float function "
   ]
  },
  {
   "cell_type": "code",
   "execution_count": 3,
   "id": "fd2e8504-3c78-4767-8d4b-a768151caa82",
   "metadata": {},
   "outputs": [
    {
     "name": "stdout",
     "output_type": "stream",
     "text": [
      "<class 'int'>\n",
      "<class 'float'>\n",
      "<class 'int'>\n"
     ]
    }
   ],
   "source": [
    "#it converts a number into a Floating point form\n",
    "\n",
    "num = 4\n",
    "\n",
    "print(type(num))\n",
    "\n",
    "num_float = float(num)\n",
    "print(type(num_float))\n",
    "print(type(num))\n"
   ]
  },
  {
   "cell_type": "code",
   "execution_count": 4,
   "id": "a4c5400d-1746-4266-9b67-0f8239977d21",
   "metadata": {},
   "outputs": [
    {
     "name": "stdout",
     "output_type": "stream",
     "text": [
      "<class 'str'>\n",
      "<class 'float'>\n"
     ]
    }
   ],
   "source": [
    "st_num =\"3.24\"\n",
    "\n",
    "print(type(st_num))\n",
    "\n",
    "st_num_float = float(st_num)\n",
    "print(type(st_num_float))"
   ]
  },
  {
   "cell_type": "markdown",
   "id": "776fa404-85e5-443d-a738-19549cbd5b81",
   "metadata": {},
   "source": [
    "# int function"
   ]
  },
  {
   "cell_type": "code",
   "execution_count": 8,
   "id": "6d975be4-d8ab-4edc-8111-72d335ec9a15",
   "metadata": {},
   "outputs": [
    {
     "name": "stdout",
     "output_type": "stream",
     "text": [
      "<class 'float'>\n",
      "<class 'int'>\n",
      "<class 'str'>\n",
      "<class 'int'>\n"
     ]
    }
   ],
   "source": [
    "# it converts the number into an integer type\n",
    "\n",
    "flt_num = 4.64\n",
    "\n",
    "print(type(flt_num))\n",
    "\n",
    "int_num = int(flt_num)\n",
    "print(type(int_num))\n",
    "\n",
    "st_number = \"45\"\n",
    "print(type(st_number))\n",
    "\n",
    "int_num2 = int(st_number)\n",
    "\n",
    "print(type(int_num2))\n"
   ]
  },
  {
   "cell_type": "code",
   "execution_count": 9,
   "id": "8ff82ecb-0737-4cd3-a0e8-304c67db4126",
   "metadata": {},
   "outputs": [],
   "source": [
    "# the \"str\" string function is also work like this one \n"
   ]
  },
  {
   "cell_type": "markdown",
   "id": "86e07f43-d7aa-405e-99e6-daa5832109a7",
   "metadata": {},
   "source": [
    "# complex function "
   ]
  },
  {
   "cell_type": "code",
   "execution_count": 10,
   "id": "db256916-18ee-46ee-9a83-1f726523342d",
   "metadata": {},
   "outputs": [
    {
     "name": "stdout",
     "output_type": "stream",
     "text": [
      "<class 'complex'>\n"
     ]
    },
    {
     "data": {
      "text/plain": [
       "(3+4j)"
      ]
     },
     "execution_count": 10,
     "metadata": {},
     "output_type": "execute_result"
    }
   ],
   "source": [
    " comp = complex(3,4) # first one is real number and the second one is imaginary number\n",
    "\n",
    "print(type(comp))\n",
    "comp"
   ]
  },
  {
   "cell_type": "markdown",
   "id": "bbbcfc6a-f96c-495a-a542-6f586558676a",
   "metadata": {},
   "source": [
    "\n",
    "# (abs) absolute function"
   ]
  },
  {
   "cell_type": "code",
   "execution_count": 17,
   "id": "65a7ec52-d1d8-4cc2-b4f7-7ff21cbbb71c",
   "metadata": {},
   "outputs": [
    {
     "name": "stdout",
     "output_type": "stream",
     "text": [
      "123\n",
      "14.322\n",
      "5.0\n"
     ]
    },
    {
     "data": {
      "text/plain": [
       "'\\nhere, r(real) = -3, i(imaginary) = 4\\n\\nsqrt((-3)^2+4^2)\\n=sqrt(9+16)\\n=5\\n\\n'"
      ]
     },
     "execution_count": 17,
     "metadata": {},
     "output_type": "execute_result"
    }
   ],
   "source": [
    "# it converts the negative value into its absolute(positive value)\n",
    "\n",
    "a = -123\n",
    "\n",
    "print(abs(a))\n",
    "\n",
    "b = -14.322\n",
    "\n",
    "print(abs(b))\n",
    "\n",
    "#for complex number\n",
    "\n",
    "c = -3+4j\n",
    "print(abs(c))\n",
    "\n",
    "# The formula of the absolute value of a complex number is as follows\n",
    "\n",
    "\"\"\"\n",
    "here, r(real) = -3, i(imaginary) = 4\n",
    "\n",
    "sqrt((-3)^2+4^2)\n",
    "=sqrt(9+16)\n",
    "=5\n",
    "\n",
    "\"\"\""
   ]
  },
  {
   "cell_type": "markdown",
   "id": "f9fb7184-3d3a-4220-8350-f54ef78e885e",
   "metadata": {},
   "source": [
    "# evaluate function"
   ]
  },
  {
   "cell_type": "code",
   "execution_count": 21,
   "id": "630218bf-f9a8-40f6-9179-1d7eb106e72a",
   "metadata": {},
   "outputs": [
    {
     "name": "stdout",
     "output_type": "stream",
     "text": [
      "36\n",
      "62.25\n"
     ]
    }
   ],
   "source": [
    "# Evaluate function solve the algebraic equations, or evaluate any equation\n",
    "\n",
    "x = 4\n",
    "y=2\n",
    "equation = \"(x+y)**2\"\n",
    "print(eval(equation))\n",
    "\n",
    "\n",
    "print(eval(\"45+23*(3/4)\"))"
   ]
  },
  {
   "cell_type": "code",
   "execution_count": null,
   "id": "0eb29c84-9e1b-4a65-beec-9cbbe81adc0b",
   "metadata": {},
   "outputs": [],
   "source": []
  }
 ],
 "metadata": {
  "kernelspec": {
   "display_name": "Python 3 (ipykernel)",
   "language": "python",
   "name": "python3"
  },
  "language_info": {
   "codemirror_mode": {
    "name": "ipython",
    "version": 3
   },
   "file_extension": ".py",
   "mimetype": "text/x-python",
   "name": "python",
   "nbconvert_exporter": "python",
   "pygments_lexer": "ipython3",
   "version": "3.12.1"
  }
 },
 "nbformat": 4,
 "nbformat_minor": 5
}
