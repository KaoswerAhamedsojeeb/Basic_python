{
 "cells": [
  {
   "cell_type": "code",
   "execution_count": 2,
   "id": "975f39cb-f1d9-4920-a0e8-4c801ca5dcfa",
   "metadata": {},
   "outputs": [
    {
     "data": {
      "text/plain": [
       "{(3, 5, 7, 8), 2, 25, 4, 'sojeeb'}"
      ]
     },
     "execution_count": 2,
     "metadata": {},
     "output_type": "execute_result"
    }
   ],
   "source": [
    "s1={2,4,25,\"sojeeb\",(3,5,7,8)}\n",
    "s1"
   ]
  },
  {
   "cell_type": "code",
   "execution_count": 4,
   "id": "9ce000af-7540-416c-ba3a-b0f508a0a939",
   "metadata": {},
   "outputs": [
    {
     "data": {
      "text/plain": [
       "{(3, 5, 7, 8), 10, 2, 25, 4, 'sojeeb'}"
      ]
     },
     "execution_count": 4,
     "metadata": {},
     "output_type": "execute_result"
    }
   ],
   "source": [
    "s1.add(10)\n",
    "s1"
   ]
  },
  {
   "cell_type": "code",
   "execution_count": 7,
   "id": "96228bb8-72f0-4722-9e66-e512b16b47e7",
   "metadata": {},
   "outputs": [
    {
     "data": {
      "text/plain": [
       "{(3, 5, 7, 8), 10, 2, 25, 4, 'sojeeb'}"
      ]
     },
     "execution_count": 7,
     "metadata": {},
     "output_type": "execute_result"
    }
   ],
   "source": [
    "s2=s1.copy()\n",
    "s2"
   ]
  },
  {
   "cell_type": "code",
   "execution_count": 8,
   "id": "b4c3be42-7eb0-4f91-b718-74dc72c62b55",
   "metadata": {},
   "outputs": [
    {
     "data": {
      "text/plain": [
       "{(3, 5, 7, 8), 10, 25, 4, 'sojeeb'}"
      ]
     },
     "execution_count": 8,
     "metadata": {},
     "output_type": "execute_result"
    }
   ],
   "source": [
    "s2.remove(2)\n",
    "s2"
   ]
  },
  {
   "cell_type": "code",
   "execution_count": 14,
   "id": "f4a698d3-6fde-4c97-bfc3-018ba5f6d0fc",
   "metadata": {},
   "outputs": [
    {
     "name": "stdout",
     "output_type": "stream",
     "text": [
      "union is {2, 4, 5, 6, 8, 9, 43, 23}\n",
      "intersection is : {8, 5}\n"
     ]
    },
    {
     "data": {
      "text/plain": [
       "{2, 4, 23}"
      ]
     },
     "execution_count": 14,
     "metadata": {},
     "output_type": "execute_result"
    }
   ],
   "source": [
    "st1 = {2,4,5,8,23}\n",
    "st2 ={5,6,8,9,43}\n",
    "\n",
    "st_u = st1.union(st2)\n",
    "print (\"union is\",st_u)\n",
    "\n",
    "st_in = st1.intersection(st2)\n",
    "print(\"intersection is :\",st_in)\n",
    "\n",
    "st_diff = st1.difference(st2)\n",
    "st_diff"
   ]
  },
  {
   "cell_type": "code",
   "execution_count": 17,
   "id": "4627d81f-3a0e-448e-bb08-7e827e3eef04",
   "metadata": {},
   "outputs": [
    {
     "name": "stdout",
     "output_type": "stream",
     "text": [
      "frozenset({2, (3, 5, 7, 8), 4, 'sojeeb', 25, 10})\n"
     ]
    },
    {
     "data": {
      "text/plain": [
       "frozenset"
      ]
     },
     "execution_count": 17,
     "metadata": {},
     "output_type": "execute_result"
    }
   ],
   "source": [
    "st_frozen = frozenset(s1) #frozen set is a special type of set that can't be updated\n",
    "print(st_frozen)\n",
    "type(st_frozen)"
   ]
  },
  {
   "cell_type": "code",
   "execution_count": null,
   "id": "ef641e7c-e8eb-4e7b-9d73-7f08352c4f22",
   "metadata": {},
   "outputs": [],
   "source": []
  }
 ],
 "metadata": {
  "kernelspec": {
   "display_name": "Python 3 (ipykernel)",
   "language": "python",
   "name": "python3"
  },
  "language_info": {
   "codemirror_mode": {
    "name": "ipython",
    "version": 3
   },
   "file_extension": ".py",
   "mimetype": "text/x-python",
   "name": "python",
   "nbconvert_exporter": "python",
   "pygments_lexer": "ipython3",
   "version": "3.12.1"
  }
 },
 "nbformat": 4,
 "nbformat_minor": 5
}
