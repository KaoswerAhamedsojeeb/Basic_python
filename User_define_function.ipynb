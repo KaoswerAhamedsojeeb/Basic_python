{
 "cells": [
  {
   "cell_type": "code",
   "execution_count": 7,
   "id": "7058b62f-e092-4d18-8343-83dba3a70341",
   "metadata": {},
   "outputs": [
    {
     "name": "stdout",
     "output_type": "stream",
     "text": [
      "My name is Kaoswer Ahamed Sojeeb\n",
      "7\n"
     ]
    }
   ],
   "source": [
    "def my_name():\n",
    "    print(\"My name is Kaoswer Ahamed Sojeeb\")\n",
    "\n",
    "my_name()\n",
    "\n",
    "def add_two_number(a,b):\n",
    "    return a+b\n",
    "print(add_two_number(4,3))"
   ]
  },
  {
   "cell_type": "code",
   "execution_count": 5,
   "id": "12612f80-ad80-4c15-8adf-3d6077f8096b",
   "metadata": {},
   "outputs": [
    {
     "name": "stdin",
     "output_type": "stream",
     "text": [
      "Enter your number:  5\n"
     ]
    },
    {
     "name": "stdout",
     "output_type": "stream",
     "text": [
      "Your number is too low\n"
     ]
    },
    {
     "name": "stdin",
     "output_type": "stream",
     "text": [
      "Enter your number:  49\n"
     ]
    },
    {
     "name": "stdout",
     "output_type": "stream",
     "text": [
      "Your number is too low\n"
     ]
    },
    {
     "name": "stdin",
     "output_type": "stream",
     "text": [
      "Enter your number:  70\n"
     ]
    },
    {
     "name": "stdout",
     "output_type": "stream",
     "text": [
      "your number is too high\n"
     ]
    },
    {
     "name": "stdin",
     "output_type": "stream",
     "text": [
      "Enter your number:  60\n"
     ]
    },
    {
     "name": "stdout",
     "output_type": "stream",
     "text": [
      "Your number is too low\n"
     ]
    },
    {
     "name": "stdin",
     "output_type": "stream",
     "text": [
      "Enter your number:  65\n"
     ]
    },
    {
     "name": "stdout",
     "output_type": "stream",
     "text": [
      "Your number is too low\n"
     ]
    },
    {
     "name": "stdin",
     "output_type": "stream",
     "text": [
      "Enter your number:  67\n"
     ]
    },
    {
     "name": "stdout",
     "output_type": "stream",
     "text": [
      "your number is too high\n"
     ]
    },
    {
     "name": "stdin",
     "output_type": "stream",
     "text": [
      "Enter your number:  66\n"
     ]
    },
    {
     "name": "stdout",
     "output_type": "stream",
     "text": [
      "Game is over!!\n",
      "You win!!\n"
     ]
    }
   ],
   "source": [
    "import random\n",
    "\n",
    "random_number = random.randint(0,100)\n",
    "state=True\n",
    "while(state):\n",
    "    num = int(input(\"Enter your number: \"))\n",
    "    if(num==random_number):\n",
    "        print(\"Game is over!!\\nYou win!!\")\n",
    "        state=False\n",
    "    elif(num<random_number):\n",
    "        print(\"Your number is too low\")\n",
    "    else:\n",
    "        print(\"your number is too high\")\n",
    "\n"
   ]
  },
  {
   "cell_type": "code",
   "execution_count": 10,
   "id": "5ee32ef8-0567-4270-9010-20eedf369995",
   "metadata": {},
   "outputs": [
    {
     "name": "stdout",
     "output_type": "stream",
     "text": [
      "['kaoswer', 'ahamed', 'sojeeb']\n"
     ]
    },
    {
     "data": {
      "text/plain": [
       "'kaoswer ahamed so'"
      ]
     },
     "execution_count": 10,
     "metadata": {},
     "output_type": "execute_result"
    }
   ],
   "source": [
    "name =\"kaoswer ahamed sojeeb\"\n",
    "splited = name.split()\n",
    "\n",
    "print(splited)\n",
    "\n",
    "name[:-4]"
   ]
  },
  {
   "cell_type": "code",
   "execution_count": null,
   "id": "42b21700-3fdf-4090-b33e-31f6781310c5",
   "metadata": {},
   "outputs": [],
   "source": []
  }
 ],
 "metadata": {
  "kernelspec": {
   "display_name": "Python 3 (ipykernel)",
   "language": "python",
   "name": "python3"
  },
  "language_info": {
   "codemirror_mode": {
    "name": "ipython",
    "version": 3
   },
   "file_extension": ".py",
   "mimetype": "text/x-python",
   "name": "python",
   "nbconvert_exporter": "python",
   "pygments_lexer": "ipython3",
   "version": "3.12.1"
  }
 },
 "nbformat": 4,
 "nbformat_minor": 5
}
