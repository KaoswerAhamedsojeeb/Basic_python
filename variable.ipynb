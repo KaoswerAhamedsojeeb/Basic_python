{
 "cells": [
  {
   "cell_type": "code",
   "execution_count": 1,
   "id": "e81ce832-e626-4197-b0b9-03d83dba1c10",
   "metadata": {},
   "outputs": [],
   "source": [
    "#list"
   ]
  },
  {
   "cell_type": "code",
   "execution_count": 7,
   "id": "8c440862-11b3-4c9a-a3d7-68b7c3830661",
   "metadata": {},
   "outputs": [
    {
     "name": "stdout",
     "output_type": "stream",
     "text": [
      "[4, 6, 8, 'sojeeb', 7.8, False, (1, 2, 3, 6)]\n"
     ]
    }
   ],
   "source": [
    "l=[4,6,8,\"sojeeb\",7.8,False,(1,2,3,6)]\n",
    "print(l)"
   ]
  },
  {
   "cell_type": "code",
   "execution_count": 3,
   "id": "f30a2b4b-cf85-4d53-89d5-b4ea4abe453e",
   "metadata": {},
   "outputs": [
    {
     "name": "stdout",
     "output_type": "stream",
     "text": [
      "4\n"
     ]
    }
   ],
   "source": [
    "print(l[0])"
   ]
  },
  {
   "cell_type": "code",
   "execution_count": 8,
   "id": "dca03e86-0c23-479e-abc4-5be1e4114696",
   "metadata": {},
   "outputs": [
    {
     "name": "stdout",
     "output_type": "stream",
     "text": [
      "(1, 2, 3, 6)\n"
     ]
    }
   ],
   "source": [
    "print(l[-1])# -1 indicates the last index of the list"
   ]
  },
  {
   "cell_type": "code",
   "execution_count": 5,
   "id": "f6be3ba3-91b8-4a0e-8311-342cc06d1f4f",
   "metadata": {},
   "outputs": [
    {
     "name": "stdout",
     "output_type": "stream",
     "text": [
      "False\n"
     ]
    }
   ],
   "source": [
    "print(l[5])"
   ]
  },
  {
   "cell_type": "code",
   "execution_count": 10,
   "id": "4472c194-157a-4ea3-a1d1-4b3d987bb4af",
   "metadata": {},
   "outputs": [
    {
     "name": "stdout",
     "output_type": "stream",
     "text": [
      "6\n"
     ]
    }
   ],
   "source": [
    "print(l[-1][-1])"
   ]
  },
  {
   "cell_type": "code",
   "execution_count": 6,
   "id": "e2fb70d3-c68c-47e6-b2d5-d25991a3d180",
   "metadata": {},
   "outputs": [
    {
     "data": {
      "text/plain": [
       "(6, 5, 9, 'name')"
      ]
     },
     "execution_count": 6,
     "metadata": {},
     "output_type": "execute_result"
    }
   ],
   "source": [
    "#Tuples are used to store multiple items in a single variable. in tuples we use braces \n",
    "tuple_number=(6,5,9,\"name\")\n",
    "tuple_number"
   ]
  },
  {
   "cell_type": "code",
   "execution_count": 9,
   "id": "daea6010-0f6f-47ce-9b8e-db1101373d33",
   "metadata": {},
   "outputs": [
    {
     "name": "stdout",
     "output_type": "stream",
     "text": [
      "name\n"
     ]
    }
   ],
   "source": [
    "print(tuple_number[-1])"
   ]
  },
  {
   "cell_type": "code",
   "execution_count": 12,
   "id": "44b43c9f-ff32-4145-a1e1-f8dfaf27b010",
   "metadata": {},
   "outputs": [
    {
     "data": {
      "text/plain": [
       "list"
      ]
     },
     "execution_count": 12,
     "metadata": {},
     "output_type": "execute_result"
    }
   ],
   "source": [
    "type(l)"
   ]
  },
  {
   "cell_type": "code",
   "execution_count": 13,
   "id": "cb00d522-5bf5-417e-a228-0d924856b254",
   "metadata": {},
   "outputs": [
    {
     "data": {
      "text/plain": [
       "tuple"
      ]
     },
     "execution_count": 13,
     "metadata": {},
     "output_type": "execute_result"
    }
   ],
   "source": [
    "type(tuple_number)"
   ]
  },
  {
   "cell_type": "code",
   "execution_count": 18,
   "id": "28cc27ca-8194-4cb7-a6d1-92d8d7ae33cd",
   "metadata": {},
   "outputs": [
    {
     "data": {
      "text/plain": [
       "True"
      ]
     },
     "execution_count": 18,
     "metadata": {},
     "output_type": "execute_result"
    }
   ],
   "source": [
    "isinstance(l,list)"
   ]
  },
  {
   "cell_type": "code",
   "execution_count": 19,
   "id": "da241370-89b5-4a23-917d-ba238b6e0a4c",
   "metadata": {},
   "outputs": [
    {
     "data": {
      "text/plain": [
       "True"
      ]
     },
     "execution_count": 19,
     "metadata": {},
     "output_type": "execute_result"
    }
   ],
   "source": [
    "isinstance(tuple_number, tuple)"
   ]
  },
  {
   "cell_type": "code",
   "execution_count": 23,
   "id": "42485bbb-7104-4e5d-8857-bce2014729a1",
   "metadata": {},
   "outputs": [
    {
     "name": "stdout",
     "output_type": "stream",
     "text": [
      "(5, 9)\n"
     ]
    }
   ],
   "source": [
    "print(tuple_number[1:3])# here first index is the starting index and the number after colon represent how many instance we need(required lenth)"
   ]
  },
  {
   "cell_type": "code",
   "execution_count": 28,
   "id": "fb9edb44-9e33-4fd4-ba49-65bf38efad22",
   "metadata": {},
   "outputs": [
    {
     "name": "stdout",
     "output_type": "stream",
     "text": [
      "0\n",
      "1\n",
      "2\n",
      "3\n",
      "4\n",
      "5\n",
      "6\n",
      "7\n",
      "8\n",
      "9\n"
     ]
    }
   ],
   "source": [
    "x=range(10)\n",
    "for i in x: print(i)"
   ]
  },
  {
   "cell_type": "code",
   "execution_count": 30,
   "id": "a594645d-a655-4912-b4e1-a82601806996",
   "metadata": {},
   "outputs": [
    {
     "name": "stdout",
     "output_type": "stream",
     "text": [
      "4\n",
      "5\n",
      "6\n",
      "7\n"
     ]
    }
   ],
   "source": [
    "x2=range(4,8)# Heter, the first number is the starting number and the second one is the end of the number\n",
    "for i in x2: print(i)"
   ]
  },
  {
   "cell_type": "code",
   "execution_count": 32,
   "id": "732eccd8-de37-4da1-be1c-19d2f97dddc8",
   "metadata": {},
   "outputs": [
    {
     "name": "stdout",
     "output_type": "stream",
     "text": [
      "5\n",
      "10\n",
      "15\n",
      "20\n",
      "25\n",
      "30\n",
      "35\n",
      "40\n",
      "45\n"
     ]
    }
   ],
   "source": [
    "x3=range(5,50,5) #Here, the first number is the starting and the second one is the end and the last one is the increment\n",
    "for i in x3: print (i)"
   ]
  },
  {
   "cell_type": "code",
   "execution_count": 35,
   "id": "19aabc22-42e3-45cc-a69b-7a39f64f89eb",
   "metadata": {},
   "outputs": [
    {
     "name": "stdout",
     "output_type": "stream",
     "text": [
      "20\n",
      "18\n",
      "16\n",
      "14\n",
      "12\n",
      "10\n",
      "8\n",
      "6\n",
      "4\n",
      "2\n"
     ]
    }
   ],
   "source": [
    "x4 = range(20,1,-2)\n",
    "for i in x4: print(i)"
   ]
  },
  {
   "cell_type": "code",
   "execution_count": null,
   "id": "4007278a-d9c4-4050-8952-53b4d8a66e20",
   "metadata": {},
   "outputs": [],
   "source": []
  }
 ],
 "metadata": {
  "kernelspec": {
   "display_name": "Python 3 (ipykernel)",
   "language": "python",
   "name": "python3"
  },
  "language_info": {
   "codemirror_mode": {
    "name": "ipython",
    "version": 3
   },
   "file_extension": ".py",
   "mimetype": "text/x-python",
   "name": "python",
   "nbconvert_exporter": "python",
   "pygments_lexer": "ipython3",
   "version": "3.12.1"
  }
 },
 "nbformat": 4,
 "nbformat_minor": 5
}
