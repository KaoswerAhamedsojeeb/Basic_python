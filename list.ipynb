{
 "cells": [
  {
   "cell_type": "code",
   "execution_count": 1,
   "id": "7cd288b5-f2a6-44b4-a140-167f78c99538",
   "metadata": {},
   "outputs": [
    {
     "data": {
      "text/plain": [
       "[4, 7, 98, 'sojeeb', (5, 4, 'ahamed')]"
      ]
     },
     "execution_count": 1,
     "metadata": {},
     "output_type": "execute_result"
    }
   ],
   "source": [
    "li =[4,7,98,\"sojeeb\",(5,4,\"ahamed\")]\n",
    "li"
   ]
  },
  {
   "cell_type": "code",
   "execution_count": 2,
   "id": "532df59d-ca6f-4859-af61-b2e8cde88380",
   "metadata": {},
   "outputs": [
    {
     "data": {
      "text/plain": [
       "[4, 7, 98, 'sojeeb', (5, 4, 'ahamed'), 83]"
      ]
     },
     "execution_count": 2,
     "metadata": {},
     "output_type": "execute_result"
    }
   ],
   "source": [
    "##insert element at last\n",
    "li.append(83)\n",
    "li "
   ]
  },
  {
   "cell_type": "code",
   "execution_count": 3,
   "id": "2c5ab388-5bcf-4840-82ff-e54b20709620",
   "metadata": {},
   "outputs": [
    {
     "data": {
      "text/plain": [
       "[4, 7, 98, 'sojeeb', (5, 4, 'ahamed')]"
      ]
     },
     "execution_count": 3,
     "metadata": {},
     "output_type": "execute_result"
    }
   ],
   "source": [
    "## remove element from last\n",
    "li.pop()\n",
    "li"
   ]
  },
  {
   "cell_type": "code",
   "execution_count": 4,
   "id": "60fa75a5-1cce-40e8-a361-17e9bb8b873b",
   "metadata": {},
   "outputs": [
    {
     "data": {
      "text/plain": [
       "[4, 100, 7, 98, 'sojeeb', (5, 4, 'ahamed')]"
      ]
     },
     "execution_count": 4,
     "metadata": {},
     "output_type": "execute_result"
    }
   ],
   "source": [
    "# insert element at a specific point\n",
    "li.insert(1,100)\n",
    "li"
   ]
  },
  {
   "cell_type": "code",
   "execution_count": 17,
   "id": "f7ddb705-686e-4e8b-b1a0-c978fbb99853",
   "metadata": {},
   "outputs": [
    {
     "name": "stdout",
     "output_type": "stream",
     "text": [
      " the list is : [5, 6, 7, 4, 32, 'kahf', 7]\n",
      "[6, 4, 32, 'kahf', 7]\n",
      "[6, 32, 'kahf', 7]\n"
     ]
    }
   ],
   "source": [
    "#remove element from a specific index\n",
    "li2=[5,6,7,4,32,\"kahf\",7]\n",
    "print(\" the list is :\", li2)\n",
    "\n",
    "li2.remove(7) ##it will remove the first occurrence of the given data\n",
    "li2.pop(0)\n",
    "print(li2)\n",
    "\n",
    "# or\n",
    "del li2[1]\n",
    "print(li2) \n",
    "\n"
   ]
  },
  {
   "cell_type": "code",
   "execution_count": 22,
   "id": "99aca964-0cb3-4cd4-9ed6-f4c77c93dc17",
   "metadata": {},
   "outputs": [
    {
     "name": "stdin",
     "output_type": "stream",
     "text": [
      "Enter the length of the list:  5\n",
      " 3\n",
      " 5\n",
      " 6\n",
      " 4\n",
      " 8\n"
     ]
    },
    {
     "name": "stdout",
     "output_type": "stream",
     "text": [
      "['3', '5', '6', '4', '8']\n",
      "['3', '4', '5', '6', '8']\n"
     ]
    }
   ],
   "source": [
    "# take input by loop\n",
    "li3 =[]\n",
    "n=int(input(\"Enter the length of the list: \"))\n",
    "for i in range(n):\n",
    "    data = input()\n",
    "    li3.append(data)\n",
    "\n",
    "print(li3)\n",
    "li3.sort()\n",
    "print(\"After sorting: \"li3)\n",
    "    "
   ]
  },
  {
   "cell_type": "code",
   "execution_count": 19,
   "id": "dc4b247d-03e2-4a0e-b10a-06dd8107343a",
   "metadata": {},
   "outputs": [
    {
     "data": {
      "text/plain": [
       "[10, 9, 8, 7, 6, 1, 2, 3, 4, 5]"
      ]
     },
     "execution_count": 19,
     "metadata": {},
     "output_type": "execute_result"
    }
   ],
   "source": [
    "\n",
    "x = [1,2,3,4,5,6,7,8,9,10]\n",
    "x1 = x[0:5].copy()\n",
    "x2 =x[10:4:-1].copy()\n",
    "final = x2+x1\n",
    "final"
   ]
  },
  {
   "cell_type": "code",
   "execution_count": null,
   "id": "942b31da-67ad-40c8-b90d-1ccd76ef7b1d",
   "metadata": {},
   "outputs": [],
   "source": []
  }
 ],
 "metadata": {
  "kernelspec": {
   "display_name": "Python 3 (ipykernel)",
   "language": "python",
   "name": "python3"
  },
  "language_info": {
   "codemirror_mode": {
    "name": "ipython",
    "version": 3
   },
   "file_extension": ".py",
   "mimetype": "text/x-python",
   "name": "python",
   "nbconvert_exporter": "python",
   "pygments_lexer": "ipython3",
   "version": "3.12.1"
  }
 },
 "nbformat": 4,
 "nbformat_minor": 5
}
