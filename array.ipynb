{
 "cells": [
  {
   "cell_type": "code",
   "execution_count": 3,
   "id": "143b5cac-4837-44b2-9592-80784030b27d",
   "metadata": {},
   "outputs": [
    {
     "name": "stdout",
     "output_type": "stream",
     "text": [
      "array('i', [4, 7, 9, 6, 4])\n"
     ]
    }
   ],
   "source": [
    "import array as arr\n",
    "values = arr.array(\"i\",[4,7,9,6,4])\n",
    "print(values)"
   ]
  },
  {
   "cell_type": "code",
   "execution_count": 4,
   "id": "e3e2894b-05a6-45f9-9ed6-993e1c51c83c",
   "metadata": {},
   "outputs": [
    {
     "name": "stdout",
     "output_type": "stream",
     "text": [
      "9\n"
     ]
    }
   ],
   "source": [
    "print(values[2])"
   ]
  },
  {
   "cell_type": "code",
   "execution_count": 5,
   "id": "eae9bba1-2ab6-4388-aa5c-04e8ee020462",
   "metadata": {},
   "outputs": [
    {
     "name": "stdout",
     "output_type": "stream",
     "text": [
      "5\n"
     ]
    }
   ],
   "source": [
    "print(len(values))"
   ]
  },
  {
   "cell_type": "code",
   "execution_count": 6,
   "id": "c087b2d7-846b-4144-9ce8-aeb8c45089b3",
   "metadata": {},
   "outputs": [
    {
     "name": "stdout",
     "output_type": "stream",
     "text": [
      "array('i', [4, 6, 9, 7, 4])\n"
     ]
    }
   ],
   "source": [
    "values.reverse()\n",
    "print(values)"
   ]
  },
  {
   "cell_type": "code",
   "execution_count": 7,
   "id": "314fb684-4872-4722-8a34-c63e8d354a90",
   "metadata": {},
   "outputs": [
    {
     "name": "stdout",
     "output_type": "stream",
     "text": [
      "array('i', [4, 6, 9, 7, 4, 8])\n"
     ]
    }
   ],
   "source": [
    "values.append(8)\n",
    "print(values)"
   ]
  },
  {
   "cell_type": "code",
   "execution_count": 9,
   "id": "160138dd-c4d5-4082-87a4-aeb4c487b171",
   "metadata": {},
   "outputs": [
    {
     "name": "stdout",
     "output_type": "stream",
     "text": [
      "array('i', [4, 7, 6, 9, 7, 4, 8])\n"
     ]
    }
   ],
   "source": [
    "values.insert(1,7)\n",
    "print(values)"
   ]
  },
  {
   "cell_type": "code",
   "execution_count": null,
   "id": "e330eca2-32a7-45b5-9d03-d6292aedae34",
   "metadata": {},
   "outputs": [],
   "source": []
  }
 ],
 "metadata": {
  "kernelspec": {
   "display_name": "Python 3 (ipykernel)",
   "language": "python",
   "name": "python3"
  },
  "language_info": {
   "codemirror_mode": {
    "name": "ipython",
    "version": 3
   },
   "file_extension": ".py",
   "mimetype": "text/x-python",
   "name": "python",
   "nbconvert_exporter": "python",
   "pygments_lexer": "ipython3",
   "version": "3.12.1"
  }
 },
 "nbformat": 4,
 "nbformat_minor": 5
}
