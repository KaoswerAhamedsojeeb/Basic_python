{
 "cells": [
  {
   "cell_type": "code",
   "execution_count": 1,
   "id": "6b69682e-eea6-4c61-9f82-69774d9aebd4",
   "metadata": {},
   "outputs": [
    {
     "name": "stdout",
     "output_type": "stream",
     "text": [
      "kaoswer ahamed\n"
     ]
    }
   ],
   "source": [
    "#this is a comment\n",
    "name = \"kaoswer ahamed\"\n",
    "print(name)"
   ]
  },
  {
   "cell_type": "markdown",
   "id": "161b1c57-f39f-4c50-86f1-ebbfdef48f52",
   "metadata": {},
   "source": [
    "thsi is a markdown this is not a code it is just an ordinary sentences\n"
   ]
  },
  {
   "cell_type": "raw",
   "id": "75653414-ef99-45ab-afbf-4d3f817f251f",
   "metadata": {},
   "source": [
    "thsi is row"
   ]
  },
  {
   "cell_type": "code",
   "execution_count": 3,
   "id": "d92f0b64-ca6f-4737-a074-ab31157308e3",
   "metadata": {},
   "outputs": [
    {
     "name": "stdout",
     "output_type": "stream",
     "text": [
      "if we want to know about the function yoyo we should press shift+ tab yoyo and we can customize the sep, end variable for example\n"
     ]
    }
   ],
   "source": [
    "print(\"if we want to know about the function\", \"we should press shift+ tab\",\"and we can customize the sep, end variable for example\", sep= ' yoyo ' )"
   ]
  },
  {
   "cell_type": "code",
   "execution_count": 4,
   "id": "ff5440aa-397c-4362-81ba-c4e66b5e83d3",
   "metadata": {},
   "outputs": [
    {
     "data": {
      "text/plain": [
       "9"
      ]
     },
     "execution_count": 4,
     "metadata": {},
     "output_type": "execute_result"
    }
   ],
   "source": [
    "#this is a variable\n",
    "num=8\n",
    "#this is multiple variable\n",
    "num1,num2,num3=9,0,4\n",
    "num1"
   ]
  },
  {
   "cell_type": "code",
   "execution_count": 5,
   "id": "2ee47944-ff38-468d-adac-5d9e8a3e5727",
   "metadata": {},
   "outputs": [
    {
     "name": "stdout",
     "output_type": "stream",
     "text": [
      "9 0 4\n"
     ]
    }
   ],
   "source": [
    "print(num1,num2,num3)"
   ]
  },
  {
   "cell_type": "markdown",
   "id": "3cd0cfa7-7296-47ce-9301-1b0496089ce5",
   "metadata": {},
   "source": [
    "input function:\n"
   ]
  },
  {
   "cell_type": "code",
   "execution_count": 1,
   "id": "4596b441-fdf9-4fd3-b6d0-c2882bde8fbc",
   "metadata": {},
   "outputs": [
    {
     "name": "stdin",
     "output_type": "stream",
     "text": [
      " kaoswer ahamed\n"
     ]
    }
   ],
   "source": [
    "your_name = input()"
   ]
  },
  {
   "cell_type": "code",
   "execution_count": 2,
   "id": "b2118ea7-e8cd-4ceb-8cae-7370c45f1950",
   "metadata": {},
   "outputs": [
    {
     "name": "stdout",
     "output_type": "stream",
     "text": [
      "kaoswer ahamed\n"
     ]
    }
   ],
   "source": [
    "print(your_name)"
   ]
  },
  {
   "cell_type": "code",
   "execution_count": 4,
   "id": "14da74ad-530e-470a-92ed-4d0c23ffeb2c",
   "metadata": {},
   "outputs": [
    {
     "name": "stdin",
     "output_type": "stream",
     "text": [
      "enter the number 56\n"
     ]
    }
   ],
   "source": [
    "number= int (input(\"enter the number\"))"
   ]
  },
  {
   "cell_type": "code",
   "execution_count": 5,
   "id": "319f5a81-6b99-442e-a2d7-8ce1ac64f1b4",
   "metadata": {},
   "outputs": [
    {
     "data": {
      "text/plain": [
       "int"
      ]
     },
     "execution_count": 5,
     "metadata": {},
     "output_type": "execute_result"
    }
   ],
   "source": [
    "type(number)"
   ]
  },
  {
   "cell_type": "code",
   "execution_count": 10,
   "id": "9369c0da-d4e0-4aa1-98c2-db97fb139208",
   "metadata": {},
   "outputs": [
    {
     "name": "stdin",
     "output_type": "stream",
     "text": [
      "entar a float number 6.5\n"
     ]
    }
   ],
   "source": [
    "float_number = float(input(\"entar a float number\"))"
   ]
  },
  {
   "cell_type": "code",
   "execution_count": 11,
   "id": "0d2a593d-81a2-4b80-8064-10b316842558",
   "metadata": {},
   "outputs": [
    {
     "name": "stdout",
     "output_type": "stream",
     "text": [
      "6.5\n"
     ]
    }
   ],
   "source": [
    "print(float_number)"
   ]
  },
  {
   "cell_type": "code",
   "execution_count": 12,
   "id": "7d8d6ed9-e849-49b4-b477-e9c9ac0fddd6",
   "metadata": {},
   "outputs": [
    {
     "data": {
      "text/plain": [
       "float"
      ]
     },
     "execution_count": 12,
     "metadata": {},
     "output_type": "execute_result"
    }
   ],
   "source": [
    "type(float_number)"
   ]
  },
  {
   "cell_type": "code",
   "execution_count": null,
   "id": "6830096d-6e01-46b1-9dfe-c8f18f73977c",
   "metadata": {},
   "outputs": [],
   "source": []
  }
 ],
 "metadata": {
  "kernelspec": {
   "display_name": "Python 3 (ipykernel)",
   "language": "python",
   "name": "python3"
  },
  "language_info": {
   "codemirror_mode": {
    "name": "ipython",
    "version": 3
   },
   "file_extension": ".py",
   "mimetype": "text/x-python",
   "name": "python",
   "nbconvert_exporter": "python",
   "pygments_lexer": "ipython3",
   "version": "3.12.1"
  }
 },
 "nbformat": 4,
 "nbformat_minor": 5
}
