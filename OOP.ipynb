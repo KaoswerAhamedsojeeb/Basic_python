{
 "cells": [
  {
   "cell_type": "code",
   "execution_count": 1,
   "id": "86d4a118-3ee2-4947-a5b7-a85af33485a3",
   "metadata": {},
   "outputs": [],
   "source": [
    "class calculator :\n",
    "    def add (self, a,b):\n",
    "        print(a+b)\n",
    "    def subtraction(self, a,b):\n",
    "        print(a-b)\n",
    "    def mult(self,a,b):\n",
    "        print(a*b)\n",
    "    def div (self,a,b):\n",
    "        print(a/b)"
   ]
  },
  {
   "cell_type": "code",
   "execution_count": 4,
   "id": "4c21ec91-7220-4612-bcb2-01194434f8ad",
   "metadata": {},
   "outputs": [
    {
     "name": "stdout",
     "output_type": "stream",
     "text": [
      "92\n",
      "69\n",
      "24\n",
      "33.0\n"
     ]
    }
   ],
   "source": [
    "calc = calculator()\n",
    "\n",
    "calc.add(89,3)\n",
    "calc.subtraction(78,9)\n",
    "calc.mult(6,4)\n",
    "calc.div(99,3)"
   ]
  },
  {
   "cell_type": "markdown",
   "id": "6e820185-5dd7-4f30-b745-c1c4622bec27",
   "metadata": {},
   "source": [
    "# constructor or _init_ funtion"
   ]
  },
  {
   "cell_type": "code",
   "execution_count": 12,
   "id": "9e8e0217-2e3b-447f-9166-4b844c0443aa",
   "metadata": {},
   "outputs": [
    {
     "name": "stdout",
     "output_type": "stream",
     "text": [
      "Rohim\n",
      "22\n",
      "<class 'int'>\n"
     ]
    }
   ],
   "source": [
    "\n",
    "#creating class of human\n",
    "class human:\n",
    "    def __init__(self,name,age):\n",
    "\n",
    "        #initate the values\n",
    "        self.name = name\n",
    "        self.age = age\n",
    "# clreating object of human type\n",
    "person1=human(\"Rohim\", 22)\n",
    "print(person1.name)\n",
    "print(person1.age)\n"
   ]
  },
  {
   "cell_type": "code",
   "execution_count": null,
   "id": "e934a242-0db0-433f-8a2f-b12cb55d6b08",
   "metadata": {},
   "outputs": [],
   "source": []
  }
 ],
 "metadata": {
  "kernelspec": {
   "display_name": "Python 3 (ipykernel)",
   "language": "python",
   "name": "python3"
  },
  "language_info": {
   "codemirror_mode": {
    "name": "ipython",
    "version": 3
   },
   "file_extension": ".py",
   "mimetype": "text/x-python",
   "name": "python",
   "nbconvert_exporter": "python",
   "pygments_lexer": "ipython3",
   "version": "3.12.1"
  }
 },
 "nbformat": 4,
 "nbformat_minor": 5
}
