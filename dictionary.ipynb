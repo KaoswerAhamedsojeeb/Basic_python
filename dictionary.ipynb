{
 "cells": [
  {
   "cell_type": "code",
   "execution_count": 3,
   "id": "d0863b55-e258-4343-9e17-703558a64af1",
   "metadata": {},
   "outputs": [],
   "source": [
    "dict_1 = {\n",
    "    \"name\" : \"kaoswer ahamed\",\n",
    "    \"ID\" : \"032021049\",\n",
    "    \"Home\": \"Lakshmiput\",\n",
    "    \"age\" :22,\n",
    "}"
   ]
  },
  {
   "cell_type": "code",
   "execution_count": 4,
   "id": "b7c545a6-9611-4c7b-b256-8f38ac344a1d",
   "metadata": {},
   "outputs": [
    {
     "name": "stdout",
     "output_type": "stream",
     "text": [
      "dict_keys(['name', 'ID', 'Home', 'age'])\n"
     ]
    }
   ],
   "source": [
    "print(dict_1.keys())"
   ]
  },
  {
   "cell_type": "code",
   "execution_count": 8,
   "id": "c59d95aa-2f61-4df6-b38a-718e5d9bbf03",
   "metadata": {},
   "outputs": [
    {
     "name": "stdout",
     "output_type": "stream",
     "text": [
      "dict_values(['kaoswer ahamed', 32021049, 'Lakshmiput', 22])\n"
     ]
    }
   ],
   "source": [
    "print(dict_1.values())"
   ]
  },
  {
   "cell_type": "code",
   "execution_count": 9,
   "id": "c1e33dbf-8889-4f08-a847-7a3a1b861091",
   "metadata": {},
   "outputs": [
    {
     "data": {
      "text/plain": [
       "{'name': 'kaoswer ahamed', 'ID': 32021049, 'Home': 'Lakshmiput', 'age': 22}"
      ]
     },
     "execution_count": 9,
     "metadata": {},
     "output_type": "execute_result"
    }
   ],
   "source": [
    "dict_2 = dict_1.copy()\n",
    "dict_2"
   ]
  },
  {
   "cell_type": "code",
   "execution_count": 14,
   "id": "90dc73ee-43d6-4ff3-86bb-1687f9f95f0c",
   "metadata": {},
   "outputs": [
    {
     "data": {
      "text/plain": [
       "{'name': 'sojeeb ahamed', 'ID': 32021049, 'Home': 'Lakshmiput', 'age': 23}"
      ]
     },
     "execution_count": 14,
     "metadata": {},
     "output_type": "execute_result"
    }
   ],
   "source": [
    "#update or assign value\n",
    "\n",
    "dict_2[\"name\"] = \"sojeeb ahamed\"\n",
    "dict_2\n",
    "\n",
    "dict_2.update({'age': 23})\n",
    "dict_2\n"
   ]
  },
  {
   "cell_type": "code",
   "execution_count": 16,
   "id": "05ddb53c-3bf4-4555-bd70-858c2bc7339f",
   "metadata": {},
   "outputs": [
    {
     "name": "stdout",
     "output_type": "stream",
     "text": [
      "sojeeb ahamed\n",
      "32021049\n",
      "Lakshmiput\n",
      "23\n"
     ]
    }
   ],
   "source": [
    "# accessing using loop\n",
    "\n",
    "\n",
    "for values in dict_2.values():\n",
    "    print(values)"
   ]
  },
  {
   "cell_type": "code",
   "execution_count": 17,
   "id": "b6f9b397-e619-4948-985e-64660581c6a4",
   "metadata": {},
   "outputs": [
    {
     "name": "stdout",
     "output_type": "stream",
     "text": [
      "name\n",
      "ID\n",
      "Home\n",
      "age\n"
     ]
    }
   ],
   "source": [
    "for key in dict_2.keys():\n",
    "    print(key)"
   ]
  },
  {
   "cell_type": "code",
   "execution_count": 27,
   "id": "1ede1f2c-45cf-45ea-8baf-4ca6274753a2",
   "metadata": {},
   "outputs": [
    {
     "data": {
      "text/plain": [
       "{'a': 'apple', 'b': 'bannena', 'c': 'goava'}"
      ]
     },
     "execution_count": 27,
     "metadata": {},
     "output_type": "execute_result"
    }
   ],
   "source": [
    "# create dictionary using dict constructor\n",
    "d = dict(a = \"apple\", b=\"bannena\", c =\"goava\")\n",
    "d"
   ]
  },
  {
   "cell_type": "code",
   "execution_count": 28,
   "id": "18dc3228-16ed-4c6d-be87-aa2155195124",
   "metadata": {},
   "outputs": [
    {
     "data": {
      "text/plain": [
       "{'a': 'apple', 'b': 'bannena', 'c': 'goava', 'd': 'orange'}"
      ]
     },
     "execution_count": 28,
     "metadata": {},
     "output_type": "execute_result"
    }
   ],
   "source": [
    "# Adding new value\n",
    "\n",
    "d[\"d\"]=\"orange\"\n",
    "d"
   ]
  },
  {
   "cell_type": "code",
   "execution_count": 29,
   "id": "48a38af6-fb96-4e28-a784-8fd506b2d526",
   "metadata": {},
   "outputs": [
    {
     "name": "stdout",
     "output_type": "stream",
     "text": [
      "a:apple\n",
      "b:bannena\n",
      "c:goava\n",
      "d:orange\n"
     ]
    }
   ],
   "source": [
    "#accessing all items with key\n",
    "for key, value in d.items():\n",
    "    print(f\"{key}:{value}\")"
   ]
  },
  {
   "cell_type": "code",
   "execution_count": 33,
   "id": "ee4f1e20-2908-4a72-a0fe-248ae4044f6c",
   "metadata": {},
   "outputs": [
    {
     "name": "stdin",
     "output_type": "stream",
     "text": [
      "How many items do you want to inpur:  2\n",
      "Enter the key:  name\n",
      "Enter the value:  kasower ahamed\n",
      "Enter the key:  sldfj\n",
      "Enter the value:  nonon\n"
     ]
    },
    {
     "name": "stdout",
     "output_type": "stream",
     "text": [
      "{'name': 'kasower ahamed', 'sldfj': 'nonon'}\n"
     ]
    }
   ],
   "source": [
    "# take dictionary as input from user in run time\n",
    "\n",
    "n = int(input(\"How many items do you want to inpur: \"))\n",
    "\n",
    "D={}\n",
    "\n",
    "for i in range(n):\n",
    "    ky = input(\"Enter the key: \")\n",
    "    val = input(\"Enter the value: \")\n",
    "    D[ky] = val\n",
    "\n",
    "print(D)\n"
   ]
  },
  {
   "cell_type": "code",
   "execution_count": 34,
   "id": "712a50d1-2c6a-4ceb-9ece-73af014845e7",
   "metadata": {},
   "outputs": [
    {
     "data": {
      "text/plain": [
       "{'a': 'apple',\n",
       " 'b': 'bannena',\n",
       " 'c': 'goava',\n",
       " 'd': 'orange',\n",
       " 'name': 'kaoswer ahamed',\n",
       " 'status': 'unmarried'}"
      ]
     },
     "execution_count": 34,
     "metadata": {},
     "output_type": "execute_result"
    }
   ],
   "source": [
    "\n"
   ]
  },
  {
   "cell_type": "code",
   "execution_count": 1,
   "id": "9824a370-3e0b-453e-bbf4-9fe90a11ff00",
   "metadata": {},
   "outputs": [
    {
     "name": "stdin",
     "output_type": "stream",
     "text": [
      "Enter product ID:  3044\n",
      "Enter product name:  chips\n",
      "Enter product ID:  45434\n",
      "Enter product name:  skdfjgsk\n",
      "Enter product ID:  4543\n",
      "Enter product name:  dkfjgs\n"
     ]
    },
    {
     "name": "stdout",
     "output_type": "stream",
     "text": [
      "{'3044': 'chips', '45434': 'skdfjgsk', '4543': 'dkfjgs'}\n"
     ]
    }
   ],
   "source": [
    "product_info = {}\n",
    "\n",
    "for i in range(3):\n",
    "    key = input(\"Enter product ID: \")\n",
    "    val = input(\"Enter product name: \")\n",
    "    product_info[key]=val\n",
    "print(product_info)"
   ]
  },
  {
   "cell_type": "code",
   "execution_count": 6,
   "id": "75a163b5-6482-4b8f-acf9-0624c76ad1d9",
   "metadata": {},
   "outputs": [
    {
     "name": "stdout",
     "output_type": "stream",
     "text": [
      "{1: 'sojeeb', 2: 'kaoswer', 3: 'ahamed', 4: 'sojeeb2', 5: 'kaoswer2', 6: 'ahamed2', 7: 'Jr sojeeb', 8: 'Jr kaoswer', 9: 'Jr ahamed'}\n",
      "{1: 'sojeeb', 2: 'kaoswer', 3: 'ahamed', 4: 'sojeeb2', 5: 'kaoswer2', 6: 'ahamed2', 7: 'Jr sojeeb', 8: 'Jr kaoswer', 9: 'Jr ahamed'}\n",
      "{1: 'sojeeb', 2: 'kaoswer', 3: 'ahamed', 4: 'sojeeb2', 5: 'kaoswer2', 6: 'ahamed2', 7: 'Jr sojeeb', 8: 'Jr kaoswer', 9: 'Jr ahamed'}\n"
     ]
    }
   ],
   "source": [
    "d1 = {1:\"sojeeb\", 2:\"kaoswer\", 3:\"ahamed\"}\n",
    "d2 ={4:\"sojeeb2\",5:\"kaoswer2\", 6:\"ahamed2\"}\n",
    "d3={7:\"Jr sojeeb\", 8: \"Jr kaoswer\", 9: \"Jr ahamed\"}\n",
    "d4={}\n",
    "\n",
    "for data in (d1,d2,d3):d4.update(data)\n",
    "print(d4)\n",
    "\n",
    "# other way\n",
    "\n",
    "d5 = {**d1,**d2,**d3}\n",
    "print(d5)\n",
    "\n",
    "# other method using union operator '|'\n",
    "\n",
    "d6 = d1| d2|d3\n",
    "print(d6)"
   ]
  },
  {
   "cell_type": "code",
   "execution_count": 8,
   "id": "01634190-37a5-442a-b267-99f273518129",
   "metadata": {},
   "outputs": [
    {
     "name": "stdout",
     "output_type": "stream",
     "text": [
      "{1: 1, 2: 4, 3: 9, 4: 16, 5: 25, 6: 36, 7: 49, 8: 64, 9: 81, 10: 100, 11: 121, 12: 144, 13: 169, 14: 196, 15: 225}\n"
     ]
    }
   ],
   "source": [
    "sq={}\n",
    "for i in range(1,16):\n",
    "    sq[i]=i**2\n",
    "print(sq)"
   ]
  },
  {
   "cell_type": "code",
   "execution_count": null,
   "id": "35de4f91-d69b-4b2a-bb49-1c429b0a6e99",
   "metadata": {},
   "outputs": [],
   "source": []
  }
 ],
 "metadata": {
  "kernelspec": {
   "display_name": "Python 3 (ipykernel)",
   "language": "python",
   "name": "python3"
  },
  "language_info": {
   "codemirror_mode": {
    "name": "ipython",
    "version": 3
   },
   "file_extension": ".py",
   "mimetype": "text/x-python",
   "name": "python",
   "nbconvert_exporter": "python",
   "pygments_lexer": "ipython3",
   "version": "3.12.1"
  }
 },
 "nbformat": 4,
 "nbformat_minor": 5
}
