{
 "cells": [
  {
   "cell_type": "code",
   "execution_count": 2,
   "id": "b7aaf974-b30a-4a2b-a75a-e7a73a5d60a4",
   "metadata": {},
   "outputs": [
    {
     "name": "stdout",
     "output_type": "stream",
     "text": [
      "Retrieving notices: done\n",
      "Channels:\n",
      " - defaults\n",
      "Platform: win-64\n",
      "Collecting package metadata (repodata.json): ...working... done\n",
      "Solving environment: ...working... done\n",
      "\n",
      "# All requested packages already installed.\n",
      "\n"
     ]
    }
   ],
   "source": [
    "!conda install numpy -y\n"
   ]
  },
  {
   "cell_type": "code",
   "execution_count": 3,
   "id": "73d5bf14-0316-4749-85b1-ba3324a9f2b9",
   "metadata": {},
   "outputs": [
    {
     "name": "stdout",
     "output_type": "stream",
     "text": [
      "Channels:\n",
      " - defaults\n",
      "Platform: win-64\n",
      "Collecting package metadata (repodata.json): ...working... done\n",
      "Solving environment: ...working... done\n",
      "\n",
      "## Package Plan ##\n",
      "\n",
      "  environment location: C:\\anaconda\\envs\\myenv\n",
      "\n",
      "  added / updated specs:\n",
      "    - pandas\n",
      "\n",
      "\n",
      "The following packages will be downloaded:\n",
      "\n",
      "    package                    |            build\n",
      "    ---------------------------|-----------------\n",
      "    bottleneck-1.4.2           |  py312h4b0e54e_0         145 KB\n",
      "    numexpr-2.10.1             |  py312h4cd664f_0         201 KB\n",
      "    pandas-2.2.3               |  py312h5da7b33_0        14.2 MB\n",
      "    ------------------------------------------------------------\n",
      "                                           Total:        14.6 MB\n",
      "\n",
      "The following NEW packages will be INSTALLED:\n",
      "\n",
      "  bottleneck         pkgs/main/win-64::bottleneck-1.4.2-py312h4b0e54e_0 \n",
      "  numexpr            pkgs/main/win-64::numexpr-2.10.1-py312h4cd664f_0 \n",
      "  pandas             pkgs/main/win-64::pandas-2.2.3-py312h5da7b33_0 \n",
      "  python-tzdata      pkgs/main/noarch::python-tzdata-2023.3-pyhd3eb1b0_0 \n",
      "  pytz               pkgs/main/win-64::pytz-2024.1-py312haa95532_0 \n",
      "\n",
      "\n",
      "\n",
      "Downloading and Extracting Packages: ...working...\n",
      "pandas-2.2.3         | 14.2 MB   |            |   0% \n",
      "\n",
      "numexpr-2.10.1       | 201 KB    |            |   0% \u001b[A\n",
      "\n",
      "\n",
      "bottleneck-1.4.2     | 145 KB    |            |   0% \u001b[A\u001b[A\n",
      "\n",
      "numexpr-2.10.1       | 201 KB    | 7          |   8% \u001b[A\n",
      "\n",
      "\n",
      "bottleneck-1.4.2     | 145 KB    | #1         |  11% \u001b[A\u001b[A\n",
      "\n",
      "\n",
      "bottleneck-1.4.2     | 145 KB    | ########## | 100% \u001b[A\u001b[A\n",
      "\n",
      "numexpr-2.10.1       | 201 KB    | ######3    |  64% \u001b[A\n",
      "\n",
      "numexpr-2.10.1       | 201 KB    | ########## | 100% \u001b[A\n",
      "\n",
      "numexpr-2.10.1       | 201 KB    | ########## | 100% \u001b[A\n",
      "\n",
      "numexpr-2.10.1       | 201 KB    | ########## | 100% \u001b[A\n",
      "\n",
      "\n",
      "bottleneck-1.4.2     | 145 KB    | ########## | 100% \u001b[A\u001b[A\n",
      "\n",
      "\n",
      "bottleneck-1.4.2     | 145 KB    | ########## | 100% \u001b[A\u001b[A\n",
      "pandas-2.2.3         | 14.2 MB   |            |   0% \n",
      "pandas-2.2.3         | 14.2 MB   |            |   0% \n",
      "pandas-2.2.3         | 14.2 MB   |            |   1% \n",
      "pandas-2.2.3         | 14.2 MB   | 1          |   1% \n",
      "pandas-2.2.3         | 14.2 MB   | 2          |   2% \n",
      "pandas-2.2.3         | 14.2 MB   | 3          |   3% \n",
      "pandas-2.2.3         | 14.2 MB   | 4          |   4% \n",
      "pandas-2.2.3         | 14.2 MB   | 6          |   6% \n",
      "pandas-2.2.3         | 14.2 MB   | 8          |   8% \n",
      "pandas-2.2.3         | 14.2 MB   | 9          |  10% \n",
      "pandas-2.2.3         | 14.2 MB   | #5         |  16% \n",
      "pandas-2.2.3         | 14.2 MB   | ##         |  21% \n",
      "pandas-2.2.3         | 14.2 MB   | ##8        |  28% \n",
      "pandas-2.2.3         | 14.2 MB   | ####3      |  44% \n",
      "pandas-2.2.3         | 14.2 MB   | #####      |  51% \n",
      "pandas-2.2.3         | 14.2 MB   | #####8     |  59% \n",
      "pandas-2.2.3         | 14.2 MB   | ######5    |  66% \n",
      "pandas-2.2.3         | 14.2 MB   | #######5   |  75% \n",
      "pandas-2.2.3         | 14.2 MB   | ########1  |  81% \n",
      "pandas-2.2.3         | 14.2 MB   | ########## | 100% \n",
      "pandas-2.2.3         | 14.2 MB   | ########## | 100% \n",
      "pandas-2.2.3         | 14.2 MB   | ########## | 100% \n",
      "                                                     \n",
      "\n",
      "\n",
      "                                                     \u001b[A\n",
      "\n",
      "\n",
      "                                                     \u001b[A\u001b[A done\n",
      "Preparing transaction: done\n",
      "Verifying transaction: done\n",
      "Executing transaction: done\n"
     ]
    }
   ],
   "source": [
    "!conda install pandas -y\n"
   ]
  },
  {
   "cell_type": "code",
   "execution_count": 5,
   "id": "df694839-40a8-4769-8bd8-228d0fa7a037",
   "metadata": {},
   "outputs": [],
   "source": [
    "import pandas as pd\n",
    "import numpy as np"
   ]
  },
  {
   "cell_type": "code",
   "execution_count": null,
   "id": "a3cf7069-b279-49d2-9d80-41db3b9ab61d",
   "metadata": {},
   "outputs": [],
   "source": []
  }
 ],
 "metadata": {
  "kernelspec": {
   "display_name": "Python 3 (ipykernel)",
   "language": "python",
   "name": "python3"
  },
  "language_info": {
   "codemirror_mode": {
    "name": "ipython",
    "version": 3
   },
   "file_extension": ".py",
   "mimetype": "text/x-python",
   "name": "python",
   "nbconvert_exporter": "python",
   "pygments_lexer": "ipython3",
   "version": "3.12.9"
  }
 },
 "nbformat": 4,
 "nbformat_minor": 5
}
