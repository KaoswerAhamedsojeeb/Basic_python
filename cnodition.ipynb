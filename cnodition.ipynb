{
 "cells": [
  {
   "cell_type": "code",
   "execution_count": 9,
   "id": "e040af3c-237f-421e-879d-e0c2e8d7d422",
   "metadata": {},
   "outputs": [
    {
     "name": "stdin",
     "output_type": "stream",
     "text": [
      "enter the first number:  4\n",
      "enter the second number:  4\n"
     ]
    },
    {
     "name": "stdout",
     "output_type": "stream",
     "text": [
      "ther number is equal.\n"
     ]
    }
   ],
   "source": [
    " a= int(input(\"enter the first number: \"))\n",
    " b =  int(input(\"enter the second number: \"))\n",
    "\n",
    "if a>b :\n",
    "    print(\"a is the leargest number.\")\n",
    "elif a==b:\n",
    "    print(\"ther number is equal.\")\n",
    "else:\n",
    "    print(\"b is the largest number\")"
   ]
  },
  {
   "cell_type": "code",
   "execution_count": null,
   "id": "0c14296b-1e49-4d9c-8be7-2567e687ba2f",
   "metadata": {},
   "outputs": [],
   "source": []
  },
  {
   "cell_type": "code",
   "execution_count": null,
   "id": "8ab11efe-2a0a-439d-a096-8498bd744e4a",
   "metadata": {},
   "outputs": [],
   "source": []
  }
 ],
 "metadata": {
  "kernelspec": {
   "display_name": "Python 3 (ipykernel)",
   "language": "python",
   "name": "python3"
  },
  "language_info": {
   "codemirror_mode": {
    "name": "ipython",
    "version": 3
   },
   "file_extension": ".py",
   "mimetype": "text/x-python",
   "name": "python",
   "nbconvert_exporter": "python",
   "pygments_lexer": "ipython3",
   "version": "3.12.1"
  }
 },
 "nbformat": 4,
 "nbformat_minor": 5
}
